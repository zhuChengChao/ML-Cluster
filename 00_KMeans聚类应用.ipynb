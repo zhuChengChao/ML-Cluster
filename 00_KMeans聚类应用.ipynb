{
 "cells": [
  {
   "cell_type": "code",
   "execution_count": 2,
   "metadata": {},
   "outputs": [],
   "source": [
    "# 导入包\n",
    "import numpy as np\n",
    "import sklearn\n",
    "from sklearn.datasets import make_blobs # 导入产生模拟数据的方法\n",
    "from sklearn.cluster import KMeans # 导入kmeans 类"
   ]
  },
  {
   "cell_type": "code",
   "execution_count": 3,
   "metadata": {},
   "outputs": [],
   "source": [
    "# 1. 产生模拟数据\n",
    "N = 1000\n",
    "centers = 4\n",
    "# 产生N个样本，样本具有2个特征，N个样本分为centers个中心\n",
    "X, Y = make_blobs(n_samples=N, n_features=2, centers=centers, random_state=28)"
   ]
  },
  {
   "cell_type": "code",
   "execution_count": 4,
   "metadata": {},
   "outputs": [
    {
     "data": {
      "text/plain": [
       "KMeans(algorithm='auto', copy_x=True, init='random', max_iter=300,\n",
       "    n_clusters=4, n_init=10, n_jobs=1, precompute_distances='auto',\n",
       "    random_state=28, tol=0.0001, verbose=0)"
      ]
     },
     "execution_count": 4,
     "metadata": {},
     "output_type": "execute_result"
    }
   ],
   "source": [
    "# 2. 模型构建\n",
    "km = KMeans(n_clusters=centers,   # 簇数目\n",
    "            init='random',        # 初始化聚类方式\n",
    "            random_state=28)      # 随机数种子\n",
    "km.fit(X)  # 模型构建"
   ]
  },
  {
   "cell_type": "code",
   "execution_count": 5,
   "metadata": {},
   "outputs": [
    {
     "data": {
      "text/plain": [
       "array([2, 0, 2, 0, 3])"
      ]
     },
     "execution_count": 5,
     "metadata": {},
     "output_type": "execute_result"
    }
   ],
   "source": [
    "# 实际的y值\n",
    "Y[:5]"
   ]
  },
  {
   "cell_type": "code",
   "execution_count": 6,
   "metadata": {
    "scrolled": true
   },
   "outputs": [
    {
     "data": {
      "text/plain": [
       "array([2, 3, 2, 2, 0])"
      ]
     },
     "execution_count": 6,
     "metadata": {},
     "output_type": "execute_result"
    }
   ],
   "source": [
    "# 模型的预测\n",
    "y_hat = km.predict(X[:5])\n",
    "y_hat"
   ]
  },
  {
   "cell_type": "code",
   "execution_count": 7,
   "metadata": {},
   "outputs": [
    {
     "name": "stdout",
     "output_type": "stream",
     "text": [
      "所有样本距离所属簇中心点的总距离和为:1764.19457\n",
      "所有样本距离所属簇中心点的平均距离为:1.76419\n"
     ]
    }
   ],
   "source": [
    "# 模型评判\n",
    "print(\"所有样本距离所属簇中心点的总距离和为:%.5f\" % km.inertia_)\n",
    "print(\"所有样本距离所属簇中心点的平均距离为:%.5f\" % (km.inertia_ / N))"
   ]
  },
  {
   "cell_type": "code",
   "execution_count": 8,
   "metadata": {},
   "outputs": [
    {
     "name": "stdout",
     "output_type": "stream",
     "text": [
      "score其实就是所有样本点离所属簇中心点距离和的相反数:\n",
      "-1764.19457007324\n"
     ]
    }
   ],
   "source": [
    "print(\"score其实就是所有样本点离所属簇中心点距离和的相反数:\")\n",
    "print(km.score(X))"
   ]
  },
  {
   "cell_type": "code",
   "execution_count": 9,
   "metadata": {},
   "outputs": [
    {
     "name": "stdout",
     "output_type": "stream",
     "text": [
      "所有的中心点聚类中心坐标:\n",
      "[[-6.32351035  7.09545595]\n",
      " [-7.51888142 -2.01003574]\n",
      " [ 6.0528514   0.24636947]\n",
      " [ 4.26881816  1.08317321]]\n"
     ]
    }
   ],
   "source": [
    "print(\"所有的中心点聚类中心坐标:\")\n",
    "cluter_centers = km.cluster_centers_\n",
    "print(cluter_centers)"
   ]
  },
  {
   "cell_type": "code",
   "execution_count": 10,
   "metadata": {},
   "outputs": [
    {
     "data": {
      "text/plain": [
       "<Figure size 800x600 with 1 Axes>"
      ]
     },
     "metadata": {},
     "output_type": "display_data"
    }
   ],
   "source": [
    "# 绘制一下产生的X形状\n",
    "import numpy as np\n",
    "import matplotlib.pyplot as plt\n",
    "\n",
    "plt.figure(figsize=(8, 6), facecolor='w')\n",
    "\n",
    "unique_lables = set(Y)\n",
    "colors = plt.cm.Spectral(np.linspace(0,1,len(unique_lables)))\n",
    "for k,col in zip(unique_lables,colors):\n",
    "    x_k = X[Y==k]\n",
    "    plt.plot(x_k[:,0], x_k[:,1], 'o', markerfacecolor=col,markeredgecolor=\"k\",\n",
    "             markersize=14)\n",
    "plt.title('data by make_blob()')\n",
    "plt.show()"
   ]
  }
 ],
 "metadata": {
  "kernelspec": {
   "display_name": "Python 3",
   "language": "python",
   "name": "python3"
  },
  "language_info": {
   "codemirror_mode": {
    "name": "ipython",
    "version": 3
   },
   "file_extension": ".py",
   "mimetype": "text/x-python",
   "name": "python",
   "nbconvert_exporter": "python",
   "pygments_lexer": "ipython3",
   "version": "3.7.3"
  }
 },
 "nbformat": 4,
 "nbformat_minor": 2
}
